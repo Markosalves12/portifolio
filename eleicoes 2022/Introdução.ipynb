{
 "cells": [
  {
   "cell_type": "markdown",
   "id": "95e1126f",
   "metadata": {},
   "source": [
    "# Analise de dados das eleições 2022"
   ]
  },
  {
   "cell_type": "markdown",
   "id": "a004c4cc",
   "metadata": {},
   "source": [
    "Neste trabalho Analisou-se os dados prestados pelos candidatos e pelos agentes partidarios para o primeiro turno\n",
    "das eleições 2022.\n",
    "\n",
    "Os dados foram coletados de dados.gov.br(<https://dados.gov.br/dataset/dadosabertos-tse-jus-br-dataset-prestacao-de-contas-eleitorais-2022>)\n",
    "\n",
    "Os dados estão distribuidos em **prestação de contas dos candidatos** e **prestação de contas dos orgãos partidarios**, sendo que ambos estão dividos em **prestação de contas de despesas contratadas** e **prestação de contas de despesas pagas**, sendo que cada pasta e cada conjunto de dados terão analises individuais."
   ]
  },
  {
   "cell_type": "markdown",
   "id": "199ea9f2",
   "metadata": {},
   "source": [
    "### 'Arquitetura' do projeto"
   ]
  },
  {
   "cell_type": "markdown",
   "id": "a328ec26",
   "metadata": {},
   "source": [
    "#### prestação de contas dos candidatos\n",
    "##### prestação de contas de despesas contratadas pelos candidatos\n",
    "perguntas que serão respondidas\n",
    "* 1 - Qual o candidato que mais contratou despesas em cada estado e em todo o brasil até a data de atualização dos arquivos.\n",
    "* 2 - Qual o tipo de despesa mais contratadas no Brasil e em cada estado até a data de atualização dos arquivos.\n",
    "* 3 - Valor contratado para a disputa em todos os cargos separadamente até a data de atualização dos arquivos, avaliado tambem por estado.\n",
    "* 4 - Candidatos que mais gastaram, para a disputa de deputado federal, estadual e senador até a data de atualização dos arquivos.\n",
    "* 5 - Qual o CNPJ que mais possui valores contratados junto aos candidatos"
   ]
  },
  {
   "cell_type": "markdown",
   "id": "a0b433d9",
   "metadata": {},
   "source": [
    "#### prestação de contas dos orgãos partidarios\n",
    "##### prestação de contas de despesas contratadas pelos orgãos partidários\n",
    "perguntas que serão respondidas\n",
    "* 1 - Qual o partido que mais contratou despesas em cada estado e em todo o brasil até a data de atualização dos arquivos.\n",
    "* 2 - Qual o tipo de despesa mais contratadas no Brasil e em cada estado até a data de atualização dos arquivos.\n",
    "* 3 - Valor contratado para a disputa em todos os cargos separadamente até a data de atualização dos arquivos, avaliado tambem por estado.\n",
    "* 4 - Partidos que mais gastaram, para a disputa de deputado federal, estadual e senador até a data de atualização dos arquivos"
   ]
  },
  {
   "cell_type": "code",
   "execution_count": null,
   "id": "5ad9ee5f",
   "metadata": {},
   "outputs": [],
   "source": []
  }
 ],
 "metadata": {
  "kernelspec": {
   "display_name": "Python 3 (ipykernel)",
   "language": "python",
   "name": "python3"
  },
  "language_info": {
   "codemirror_mode": {
    "name": "ipython",
    "version": 3
   },
   "file_extension": ".py",
   "mimetype": "text/x-python",
   "name": "python",
   "nbconvert_exporter": "python",
   "pygments_lexer": "ipython3",
   "version": "3.9.12"
  }
 },
 "nbformat": 4,
 "nbformat_minor": 5
}
