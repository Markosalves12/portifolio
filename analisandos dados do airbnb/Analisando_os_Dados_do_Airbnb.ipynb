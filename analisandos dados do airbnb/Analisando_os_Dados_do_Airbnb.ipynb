{
 "cells": [
  {
   "cell_type": "markdown",
   "metadata": {
    "id": "kLI0gJtzDGuQ"
   },
   "source": [
    "# Análise dos Dados do Airbnb - Rio de Janeiro\n",
    "\n",
    "O [Airbnb](https://www.airbnb.com.br/) já é considerado como sendo a **maior empresa hoteleira da atualidade**. Ah, o detalhe é que ele **não possui nenhum hotel**!\n",
    "\n",
    "Conectando pessoas que querem viajar (e se hospedar) com anfitriões que querem alugar seus imóveis de maneira prática, o Airbnb fornece uma plataforma inovadora para tornar essa hospedagem alternativa.\n",
    "\n",
    "No final de 2018, a Startup fundada 10 anos atrás, já havia **hospedado mais de 300 milhões** de pessoas ao redor de todo o mundo, desafiando as redes hoteleiras tradicionais.\n",
    "\n",
    "Uma das iniciativas do Airbnb é disponibilizar dados do site, para algumas das principais cidades do mundo. Por meio do portal [Inside Airbnb](http://insideairbnb.com/get-the-data.html), é possível baixar uma grande quantidade de dados para desenvolver projetos e soluções de *Data Science*.\n",
    "\n",
    "<center><img alt=\"Analisando Airbnb\" width=\"10%\" src=\"https://www.area360.com.au/wp-content/uploads/2017/09/airbnb-logo.jpg\"></center>\n",
    "\n",
    "o dataset usado neste trabalho foi baixado no dia 11/12/2022, e está disponivel em <https://raw.githubusercontent.com/Markosalves12/portifolio/main/analisandos%20dados%20do%20airbnb/listings%20(1).csv>\n",
    "\n",
    "\n",
    "**Neste *notebook*, iremos analisar os dados referentes à cidade Rio de Janeiro, e ver quais insights podem ser extraídos a partir de dados brutos.**"
   ]
  },
  {
   "cell_type": "markdown",
   "metadata": {
    "id": "0zxQHhIUDF_2"
   },
   "source": [
    "## Obtenção dos Dados\n"
   ]
  },
  {
   "cell_type": "code",
   "execution_count": 1,
   "metadata": {
    "id": "Vhp2wMPgJ6zX"
   },
   "outputs": [
    {
     "name": "stderr",
     "output_type": "stream",
     "text": [
      "C:\\Users\\Markos Alves\\anaconda3copy\\lib\\site-packages\\scipy\\__init__.py:146: UserWarning: A NumPy version >=1.16.5 and <1.23.0 is required for this version of SciPy (detected version 1.23.3\n",
      "  warnings.warn(f\"A NumPy version >={np_minversion} and <{np_maxversion}\"\n"
     ]
    }
   ],
   "source": [
    "# importar os pacotes necessarios\n",
    "import pandas as pd\n",
    "import matplotlib.pyplot as plt\n",
    "import seaborn"
   ]
  },
  {
   "cell_type": "code",
   "execution_count": 2,
   "metadata": {
    "id": "tUmoAT8DLQ5T"
   },
   "outputs": [],
   "source": [
    "# importar o arquivo listings.csv para um DataFrame\n",
    "arquivo = \"https://raw.githubusercontent.com/Markosalves12/portifolio/main/analisandos%20dados%20do%20airbnb/listings%20(1).csv\"\n",
    "df = pd.read_csv(arquivo)"
   ]
  },
  {
   "cell_type": "code",
   "execution_count": 4,
   "metadata": {},
   "outputs": [
    {
     "data": {
      "text/html": [
       "<div>\n",
       "<style scoped>\n",
       "    .dataframe tbody tr th:only-of-type {\n",
       "        vertical-align: middle;\n",
       "    }\n",
       "\n",
       "    .dataframe tbody tr th {\n",
       "        vertical-align: top;\n",
       "    }\n",
       "\n",
       "    .dataframe thead th {\n",
       "        text-align: right;\n",
       "    }\n",
       "</style>\n",
       "<table border=\"1\" class=\"dataframe\">\n",
       "  <thead>\n",
       "    <tr style=\"text-align: right;\">\n",
       "      <th></th>\n",
       "      <th>id</th>\n",
       "      <th>name</th>\n",
       "      <th>host_id</th>\n",
       "      <th>host_name</th>\n",
       "      <th>neighbourhood_group</th>\n",
       "      <th>neighbourhood</th>\n",
       "      <th>latitude</th>\n",
       "      <th>longitude</th>\n",
       "      <th>room_type</th>\n",
       "      <th>price</th>\n",
       "      <th>minimum_nights</th>\n",
       "      <th>number_of_reviews</th>\n",
       "      <th>last_review</th>\n",
       "      <th>reviews_per_month</th>\n",
       "      <th>calculated_host_listings_count</th>\n",
       "      <th>availability_365</th>\n",
       "      <th>number_of_reviews_ltm</th>\n",
       "      <th>license</th>\n",
       "    </tr>\n",
       "  </thead>\n",
       "  <tbody>\n",
       "    <tr>\n",
       "      <th>0</th>\n",
       "      <td>53344884</td>\n",
       "      <td>Suntuoso apartamento em Copacabana posto 6</td>\n",
       "      <td>431412286</td>\n",
       "      <td>Carlos Henrique</td>\n",
       "      <td>NaN</td>\n",
       "      <td>Copacabana</td>\n",
       "      <td>-22.98299</td>\n",
       "      <td>-43.18904</td>\n",
       "      <td>Entire home/apt</td>\n",
       "      <td>3500</td>\n",
       "      <td>3</td>\n",
       "      <td>0</td>\n",
       "      <td>NaN</td>\n",
       "      <td>NaN</td>\n",
       "      <td>10</td>\n",
       "      <td>365</td>\n",
       "      <td>0</td>\n",
       "      <td>NaN</td>\n",
       "    </tr>\n",
       "    <tr>\n",
       "      <th>1</th>\n",
       "      <td>44708736</td>\n",
       "      <td>Aluguel de Lancha no Rio de Janeiro</td>\n",
       "      <td>97164727</td>\n",
       "      <td>Jorge Quito</td>\n",
       "      <td>NaN</td>\n",
       "      <td>Glória</td>\n",
       "      <td>-22.91988</td>\n",
       "      <td>-43.17034</td>\n",
       "      <td>Entire home/apt</td>\n",
       "      <td>8999</td>\n",
       "      <td>1</td>\n",
       "      <td>2</td>\n",
       "      <td>2021-08-02</td>\n",
       "      <td>0.10</td>\n",
       "      <td>2</td>\n",
       "      <td>179</td>\n",
       "      <td>0</td>\n",
       "      <td>NaN</td>\n",
       "    </tr>\n",
       "    <tr>\n",
       "      <th>2</th>\n",
       "      <td>7801456</td>\n",
       "      <td>Ipanema Vieira Souto - Linda Vista</td>\n",
       "      <td>40650139</td>\n",
       "      <td>Carlos Alberto</td>\n",
       "      <td>NaN</td>\n",
       "      <td>Ipanema</td>\n",
       "      <td>-22.98723</td>\n",
       "      <td>-43.20452</td>\n",
       "      <td>Entire home/apt</td>\n",
       "      <td>5000</td>\n",
       "      <td>2</td>\n",
       "      <td>0</td>\n",
       "      <td>NaN</td>\n",
       "      <td>NaN</td>\n",
       "      <td>5</td>\n",
       "      <td>365</td>\n",
       "      <td>0</td>\n",
       "      <td>NaN</td>\n",
       "    </tr>\n",
       "    <tr>\n",
       "      <th>3</th>\n",
       "      <td>48227858</td>\n",
       "      <td>Ótimo apart-hotel com toda comodidade! ITAGUAÍ!!</td>\n",
       "      <td>387525952</td>\n",
       "      <td>Nelio</td>\n",
       "      <td>NaN</td>\n",
       "      <td>Santa Cruz</td>\n",
       "      <td>-22.87218</td>\n",
       "      <td>-43.76740</td>\n",
       "      <td>Entire home/apt</td>\n",
       "      <td>200</td>\n",
       "      <td>2</td>\n",
       "      <td>4</td>\n",
       "      <td>2021-12-17</td>\n",
       "      <td>0.22</td>\n",
       "      <td>2</td>\n",
       "      <td>356</td>\n",
       "      <td>1</td>\n",
       "      <td>NaN</td>\n",
       "    </tr>\n",
       "    <tr>\n",
       "      <th>4</th>\n",
       "      <td>36306164</td>\n",
       "      <td>Porto Real Resort cobertura espetacular</td>\n",
       "      <td>273041807</td>\n",
       "      <td>Andreia</td>\n",
       "      <td>NaN</td>\n",
       "      <td>Santa Cruz</td>\n",
       "      <td>-22.87738</td>\n",
       "      <td>-43.73780</td>\n",
       "      <td>Entire home/apt</td>\n",
       "      <td>636</td>\n",
       "      <td>2</td>\n",
       "      <td>12</td>\n",
       "      <td>2022-03-21</td>\n",
       "      <td>0.55</td>\n",
       "      <td>1</td>\n",
       "      <td>353</td>\n",
       "      <td>4</td>\n",
       "      <td>NaN</td>\n",
       "    </tr>\n",
       "    <tr>\n",
       "      <th>...</th>\n",
       "      <td>...</td>\n",
       "      <td>...</td>\n",
       "      <td>...</td>\n",
       "      <td>...</td>\n",
       "      <td>...</td>\n",
       "      <td>...</td>\n",
       "      <td>...</td>\n",
       "      <td>...</td>\n",
       "      <td>...</td>\n",
       "      <td>...</td>\n",
       "      <td>...</td>\n",
       "      <td>...</td>\n",
       "      <td>...</td>\n",
       "      <td>...</td>\n",
       "      <td>...</td>\n",
       "      <td>...</td>\n",
       "      <td>...</td>\n",
       "      <td>...</td>\n",
       "    </tr>\n",
       "    <tr>\n",
       "      <th>26361</th>\n",
       "      <td>3038757</td>\n",
       "      <td>Aluguel temporada Apart Copacabana</td>\n",
       "      <td>15473637</td>\n",
       "      <td>Majobel</td>\n",
       "      <td>NaN</td>\n",
       "      <td>Copacabana</td>\n",
       "      <td>-22.98004</td>\n",
       "      <td>-43.17879</td>\n",
       "      <td>Entire home/apt</td>\n",
       "      <td>230</td>\n",
       "      <td>3</td>\n",
       "      <td>4</td>\n",
       "      <td>2020-01-02</td>\n",
       "      <td>0.04</td>\n",
       "      <td>1</td>\n",
       "      <td>192</td>\n",
       "      <td>0</td>\n",
       "      <td>NaN</td>\n",
       "    </tr>\n",
       "    <tr>\n",
       "      <th>26362</th>\n",
       "      <td>48602856</td>\n",
       "      <td>Apart Hotel Flat La Reserve Barra da Tijuca</td>\n",
       "      <td>40619768</td>\n",
       "      <td>Alex</td>\n",
       "      <td>NaN</td>\n",
       "      <td>Barra da Tijuca</td>\n",
       "      <td>-23.01213</td>\n",
       "      <td>-43.35503</td>\n",
       "      <td>Entire home/apt</td>\n",
       "      <td>319</td>\n",
       "      <td>3</td>\n",
       "      <td>31</td>\n",
       "      <td>2022-09-11</td>\n",
       "      <td>1.83</td>\n",
       "      <td>1</td>\n",
       "      <td>83</td>\n",
       "      <td>25</td>\n",
       "      <td>NaN</td>\n",
       "    </tr>\n",
       "    <tr>\n",
       "      <th>26363</th>\n",
       "      <td>34153753</td>\n",
       "      <td>NOSSO LAR II</td>\n",
       "      <td>257864405</td>\n",
       "      <td>Ana Cláudia</td>\n",
       "      <td>NaN</td>\n",
       "      <td>Santa Cruz</td>\n",
       "      <td>-22.87480</td>\n",
       "      <td>-43.73820</td>\n",
       "      <td>Entire home/apt</td>\n",
       "      <td>900</td>\n",
       "      <td>2</td>\n",
       "      <td>0</td>\n",
       "      <td>NaN</td>\n",
       "      <td>NaN</td>\n",
       "      <td>1</td>\n",
       "      <td>365</td>\n",
       "      <td>0</td>\n",
       "      <td>NaN</td>\n",
       "    </tr>\n",
       "    <tr>\n",
       "      <th>26364</th>\n",
       "      <td>47739419</td>\n",
       "      <td>LUX RIO 06 - Flat Frente praia com piscina</td>\n",
       "      <td>13949537</td>\n",
       "      <td>Alexander</td>\n",
       "      <td>NaN</td>\n",
       "      <td>Ipanema</td>\n",
       "      <td>-22.98796</td>\n",
       "      <td>-43.18848</td>\n",
       "      <td>Entire home/apt</td>\n",
       "      <td>650</td>\n",
       "      <td>3</td>\n",
       "      <td>26</td>\n",
       "      <td>2022-08-20</td>\n",
       "      <td>1.27</td>\n",
       "      <td>11</td>\n",
       "      <td>76</td>\n",
       "      <td>18</td>\n",
       "      <td>NaN</td>\n",
       "    </tr>\n",
       "    <tr>\n",
       "      <th>26365</th>\n",
       "      <td>9903270</td>\n",
       "      <td>Paz ,  segurança e beleza.</td>\n",
       "      <td>12282942</td>\n",
       "      <td>Márcia</td>\n",
       "      <td>NaN</td>\n",
       "      <td>Urca</td>\n",
       "      <td>-22.94584</td>\n",
       "      <td>-43.16523</td>\n",
       "      <td>Private room</td>\n",
       "      <td>516</td>\n",
       "      <td>1</td>\n",
       "      <td>0</td>\n",
       "      <td>NaN</td>\n",
       "      <td>NaN</td>\n",
       "      <td>1</td>\n",
       "      <td>364</td>\n",
       "      <td>0</td>\n",
       "      <td>NaN</td>\n",
       "    </tr>\n",
       "  </tbody>\n",
       "</table>\n",
       "<p>26366 rows × 18 columns</p>\n",
       "</div>"
      ],
      "text/plain": [
       "             id                                              name    host_id  \\\n",
       "0      53344884        Suntuoso apartamento em Copacabana posto 6  431412286   \n",
       "1      44708736               Aluguel de Lancha no Rio de Janeiro   97164727   \n",
       "2       7801456                Ipanema Vieira Souto - Linda Vista   40650139   \n",
       "3      48227858  Ótimo apart-hotel com toda comodidade! ITAGUAÍ!!  387525952   \n",
       "4      36306164           Porto Real Resort cobertura espetacular  273041807   \n",
       "...         ...                                               ...        ...   \n",
       "26361   3038757                Aluguel temporada Apart Copacabana   15473637   \n",
       "26362  48602856       Apart Hotel Flat La Reserve Barra da Tijuca   40619768   \n",
       "26363  34153753                                      NOSSO LAR II  257864405   \n",
       "26364  47739419        LUX RIO 06 - Flat Frente praia com piscina   13949537   \n",
       "26365   9903270                        Paz ,  segurança e beleza.   12282942   \n",
       "\n",
       "             host_name  neighbourhood_group    neighbourhood  latitude  \\\n",
       "0      Carlos Henrique                  NaN       Copacabana -22.98299   \n",
       "1          Jorge Quito                  NaN           Glória -22.91988   \n",
       "2       Carlos Alberto                  NaN          Ipanema -22.98723   \n",
       "3                Nelio                  NaN       Santa Cruz -22.87218   \n",
       "4              Andreia                  NaN       Santa Cruz -22.87738   \n",
       "...                ...                  ...              ...       ...   \n",
       "26361          Majobel                  NaN       Copacabana -22.98004   \n",
       "26362             Alex                  NaN  Barra da Tijuca -23.01213   \n",
       "26363      Ana Cláudia                  NaN       Santa Cruz -22.87480   \n",
       "26364        Alexander                  NaN          Ipanema -22.98796   \n",
       "26365           Márcia                  NaN             Urca -22.94584   \n",
       "\n",
       "       longitude        room_type  price  minimum_nights  number_of_reviews  \\\n",
       "0      -43.18904  Entire home/apt   3500               3                  0   \n",
       "1      -43.17034  Entire home/apt   8999               1                  2   \n",
       "2      -43.20452  Entire home/apt   5000               2                  0   \n",
       "3      -43.76740  Entire home/apt    200               2                  4   \n",
       "4      -43.73780  Entire home/apt    636               2                 12   \n",
       "...          ...              ...    ...             ...                ...   \n",
       "26361  -43.17879  Entire home/apt    230               3                  4   \n",
       "26362  -43.35503  Entire home/apt    319               3                 31   \n",
       "26363  -43.73820  Entire home/apt    900               2                  0   \n",
       "26364  -43.18848  Entire home/apt    650               3                 26   \n",
       "26365  -43.16523     Private room    516               1                  0   \n",
       "\n",
       "      last_review  reviews_per_month  calculated_host_listings_count  \\\n",
       "0             NaN                NaN                              10   \n",
       "1      2021-08-02               0.10                               2   \n",
       "2             NaN                NaN                               5   \n",
       "3      2021-12-17               0.22                               2   \n",
       "4      2022-03-21               0.55                               1   \n",
       "...           ...                ...                             ...   \n",
       "26361  2020-01-02               0.04                               1   \n",
       "26362  2022-09-11               1.83                               1   \n",
       "26363         NaN                NaN                               1   \n",
       "26364  2022-08-20               1.27                              11   \n",
       "26365         NaN                NaN                               1   \n",
       "\n",
       "       availability_365  number_of_reviews_ltm  license  \n",
       "0                   365                      0      NaN  \n",
       "1                   179                      0      NaN  \n",
       "2                   365                      0      NaN  \n",
       "3                   356                      1      NaN  \n",
       "4                   353                      4      NaN  \n",
       "...                 ...                    ...      ...  \n",
       "26361               192                      0      NaN  \n",
       "26362                83                     25      NaN  \n",
       "26363               365                      0      NaN  \n",
       "26364                76                     18      NaN  \n",
       "26365               364                      0      NaN  \n",
       "\n",
       "[26366 rows x 18 columns]"
      ]
     },
     "metadata": {},
     "output_type": "display_data"
    }
   ],
   "source": [
    "display(df)"
   ]
  },
  {
   "cell_type": "markdown",
   "metadata": {
    "id": "qb5By2nIMS6m"
   },
   "source": [
    "## Análise dos Dados\n"
   ]
  },
  {
   "cell_type": "code",
   "execution_count": 5,
   "metadata": {},
   "outputs": [
    {
     "data": {
      "text/plain": [
       "Index(['id', 'name', 'host_id', 'host_name', 'neighbourhood_group',\n",
       "       'neighbourhood', 'latitude', 'longitude', 'room_type', 'price',\n",
       "       'minimum_nights', 'number_of_reviews', 'last_review',\n",
       "       'reviews_per_month', 'calculated_host_listings_count',\n",
       "       'availability_365', 'number_of_reviews_ltm', 'license'],\n",
       "      dtype='object')"
      ]
     },
     "execution_count": 5,
     "metadata": {},
     "output_type": "execute_result"
    }
   ],
   "source": [
    "df.columns"
   ]
  },
  {
   "cell_type": "markdown",
   "metadata": {
    "id": "RYgvuebKNg8-"
   },
   "source": [
    "**Dicionário das variáveis**\n",
    "\n",
    "* id = id do imóvel\n",
    "*  name = descrição do imóvel\n",
    "* host_id = nome do anfitrião\n",
    "* host_name = nome do anfitrião\n",
    "* neighbourhood = bairro\n",
    "* latitude = latitude\n",
    "* longitude = longitude\n",
    "* room_type = tipo de quarto alugado\n",
    "* price = valor da diária no local\n",
    "* minimum_nights = numero minimo de noites para alugar\n",
    "* number_of_reviews = número de avaliações\n",
    "* last_review = ultima avaliação\n",
    "* reviews_per_month = reviews por mês\n",
    "* calculated_host_listings_count = numero de listagems que o anfitrião tem na região\n",
    "* availability_365 = avaliaçãos nos últimos 365 dias\n",
    "* number_of_reviews_ltm = numeros de avaliações nos últimos 12 meses\n",
    "* license = registro de licença no airbnb\n",
    "* availability = disponibilidade do imovel\n",
    "Antes de iniciar qualquer análise, vamos verificar a cara do nosso *dataset*, analisando as 5 primeiras entradas."
   ]
  },
  {
   "cell_type": "code",
   "execution_count": 6,
   "metadata": {
    "id": "2iS_dae7YQtO"
   },
   "outputs": [
    {
     "data": {
      "text/html": [
       "<div>\n",
       "<style scoped>\n",
       "    .dataframe tbody tr th:only-of-type {\n",
       "        vertical-align: middle;\n",
       "    }\n",
       "\n",
       "    .dataframe tbody tr th {\n",
       "        vertical-align: top;\n",
       "    }\n",
       "\n",
       "    .dataframe thead th {\n",
       "        text-align: right;\n",
       "    }\n",
       "</style>\n",
       "<table border=\"1\" class=\"dataframe\">\n",
       "  <thead>\n",
       "    <tr style=\"text-align: right;\">\n",
       "      <th></th>\n",
       "      <th>id</th>\n",
       "      <th>name</th>\n",
       "      <th>host_id</th>\n",
       "      <th>host_name</th>\n",
       "      <th>neighbourhood_group</th>\n",
       "      <th>neighbourhood</th>\n",
       "      <th>latitude</th>\n",
       "      <th>longitude</th>\n",
       "      <th>room_type</th>\n",
       "      <th>price</th>\n",
       "      <th>minimum_nights</th>\n",
       "      <th>number_of_reviews</th>\n",
       "      <th>last_review</th>\n",
       "      <th>reviews_per_month</th>\n",
       "      <th>calculated_host_listings_count</th>\n",
       "      <th>availability_365</th>\n",
       "      <th>number_of_reviews_ltm</th>\n",
       "      <th>license</th>\n",
       "    </tr>\n",
       "  </thead>\n",
       "  <tbody>\n",
       "    <tr>\n",
       "      <th>0</th>\n",
       "      <td>53344884</td>\n",
       "      <td>Suntuoso apartamento em Copacabana posto 6</td>\n",
       "      <td>431412286</td>\n",
       "      <td>Carlos Henrique</td>\n",
       "      <td>NaN</td>\n",
       "      <td>Copacabana</td>\n",
       "      <td>-22.98299</td>\n",
       "      <td>-43.18904</td>\n",
       "      <td>Entire home/apt</td>\n",
       "      <td>3500</td>\n",
       "      <td>3</td>\n",
       "      <td>0</td>\n",
       "      <td>NaN</td>\n",
       "      <td>NaN</td>\n",
       "      <td>10</td>\n",
       "      <td>365</td>\n",
       "      <td>0</td>\n",
       "      <td>NaN</td>\n",
       "    </tr>\n",
       "    <tr>\n",
       "      <th>1</th>\n",
       "      <td>44708736</td>\n",
       "      <td>Aluguel de Lancha no Rio de Janeiro</td>\n",
       "      <td>97164727</td>\n",
       "      <td>Jorge Quito</td>\n",
       "      <td>NaN</td>\n",
       "      <td>Glória</td>\n",
       "      <td>-22.91988</td>\n",
       "      <td>-43.17034</td>\n",
       "      <td>Entire home/apt</td>\n",
       "      <td>8999</td>\n",
       "      <td>1</td>\n",
       "      <td>2</td>\n",
       "      <td>2021-08-02</td>\n",
       "      <td>0.10</td>\n",
       "      <td>2</td>\n",
       "      <td>179</td>\n",
       "      <td>0</td>\n",
       "      <td>NaN</td>\n",
       "    </tr>\n",
       "    <tr>\n",
       "      <th>2</th>\n",
       "      <td>7801456</td>\n",
       "      <td>Ipanema Vieira Souto - Linda Vista</td>\n",
       "      <td>40650139</td>\n",
       "      <td>Carlos Alberto</td>\n",
       "      <td>NaN</td>\n",
       "      <td>Ipanema</td>\n",
       "      <td>-22.98723</td>\n",
       "      <td>-43.20452</td>\n",
       "      <td>Entire home/apt</td>\n",
       "      <td>5000</td>\n",
       "      <td>2</td>\n",
       "      <td>0</td>\n",
       "      <td>NaN</td>\n",
       "      <td>NaN</td>\n",
       "      <td>5</td>\n",
       "      <td>365</td>\n",
       "      <td>0</td>\n",
       "      <td>NaN</td>\n",
       "    </tr>\n",
       "    <tr>\n",
       "      <th>3</th>\n",
       "      <td>48227858</td>\n",
       "      <td>Ótimo apart-hotel com toda comodidade! ITAGUAÍ!!</td>\n",
       "      <td>387525952</td>\n",
       "      <td>Nelio</td>\n",
       "      <td>NaN</td>\n",
       "      <td>Santa Cruz</td>\n",
       "      <td>-22.87218</td>\n",
       "      <td>-43.76740</td>\n",
       "      <td>Entire home/apt</td>\n",
       "      <td>200</td>\n",
       "      <td>2</td>\n",
       "      <td>4</td>\n",
       "      <td>2021-12-17</td>\n",
       "      <td>0.22</td>\n",
       "      <td>2</td>\n",
       "      <td>356</td>\n",
       "      <td>1</td>\n",
       "      <td>NaN</td>\n",
       "    </tr>\n",
       "    <tr>\n",
       "      <th>4</th>\n",
       "      <td>36306164</td>\n",
       "      <td>Porto Real Resort cobertura espetacular</td>\n",
       "      <td>273041807</td>\n",
       "      <td>Andreia</td>\n",
       "      <td>NaN</td>\n",
       "      <td>Santa Cruz</td>\n",
       "      <td>-22.87738</td>\n",
       "      <td>-43.73780</td>\n",
       "      <td>Entire home/apt</td>\n",
       "      <td>636</td>\n",
       "      <td>2</td>\n",
       "      <td>12</td>\n",
       "      <td>2022-03-21</td>\n",
       "      <td>0.55</td>\n",
       "      <td>1</td>\n",
       "      <td>353</td>\n",
       "      <td>4</td>\n",
       "      <td>NaN</td>\n",
       "    </tr>\n",
       "  </tbody>\n",
       "</table>\n",
       "</div>"
      ],
      "text/plain": [
       "         id                                              name    host_id  \\\n",
       "0  53344884        Suntuoso apartamento em Copacabana posto 6  431412286   \n",
       "1  44708736               Aluguel de Lancha no Rio de Janeiro   97164727   \n",
       "2   7801456                Ipanema Vieira Souto - Linda Vista   40650139   \n",
       "3  48227858  Ótimo apart-hotel com toda comodidade! ITAGUAÍ!!  387525952   \n",
       "4  36306164           Porto Real Resort cobertura espetacular  273041807   \n",
       "\n",
       "         host_name  neighbourhood_group neighbourhood  latitude  longitude  \\\n",
       "0  Carlos Henrique                  NaN    Copacabana -22.98299  -43.18904   \n",
       "1      Jorge Quito                  NaN        Glória -22.91988  -43.17034   \n",
       "2   Carlos Alberto                  NaN       Ipanema -22.98723  -43.20452   \n",
       "3            Nelio                  NaN    Santa Cruz -22.87218  -43.76740   \n",
       "4          Andreia                  NaN    Santa Cruz -22.87738  -43.73780   \n",
       "\n",
       "         room_type  price  minimum_nights  number_of_reviews last_review  \\\n",
       "0  Entire home/apt   3500               3                  0         NaN   \n",
       "1  Entire home/apt   8999               1                  2  2021-08-02   \n",
       "2  Entire home/apt   5000               2                  0         NaN   \n",
       "3  Entire home/apt    200               2                  4  2021-12-17   \n",
       "4  Entire home/apt    636               2                 12  2022-03-21   \n",
       "\n",
       "   reviews_per_month  calculated_host_listings_count  availability_365  \\\n",
       "0                NaN                              10               365   \n",
       "1               0.10                               2               179   \n",
       "2                NaN                               5               365   \n",
       "3               0.22                               2               356   \n",
       "4               0.55                               1               353   \n",
       "\n",
       "   number_of_reviews_ltm  license  \n",
       "0                      0      NaN  \n",
       "1                      0      NaN  \n",
       "2                      0      NaN  \n",
       "3                      1      NaN  \n",
       "4                      4      NaN  "
      ]
     },
     "execution_count": 6,
     "metadata": {},
     "output_type": "execute_result"
    }
   ],
   "source": [
    "# mostrar as 5 primeiras entradas\n",
    "df.head(5)"
   ]
  },
  {
   "cell_type": "markdown",
   "metadata": {
    "id": "6-B_qtEaYEd-"
   },
   "source": [
    "### **Q1. Quantos atributos (variáveis) e quantas entradas o nosso conjunto de dados possui? Quais os tipos das variáveis?**"
   ]
  },
  {
   "cell_type": "code",
   "execution_count": 11,
   "metadata": {
    "id": "TFRK0tniLV-G"
   },
   "outputs": [
    {
     "name": "stdout",
     "output_type": "stream",
     "text": [
      "variaveis:18\n",
      "entradas:26366\n"
     ]
    },
    {
     "data": {
      "text/plain": [
       "id                                  int64\n",
       "name                               object\n",
       "host_id                             int64\n",
       "host_name                          object\n",
       "neighbourhood_group               float64\n",
       "neighbourhood                      object\n",
       "latitude                          float64\n",
       "longitude                         float64\n",
       "room_type                          object\n",
       "price                               int64\n",
       "minimum_nights                      int64\n",
       "number_of_reviews                   int64\n",
       "last_review                        object\n",
       "reviews_per_month                 float64\n",
       "calculated_host_listings_count      int64\n",
       "availability_365                    int64\n",
       "number_of_reviews_ltm               int64\n",
       "license                           float64\n",
       "dtype: object"
      ]
     },
     "metadata": {},
     "output_type": "display_data"
    }
   ],
   "source": [
    "# identificar o volume de dados do DataFrame\n",
    "formato = df.shape\n",
    "print(f'variaveis:{formato[1]}')\n",
    "print(f'entradas:{formato[0]}')\n",
    "# verificar as 5 primeiras entradas do dataset\n",
    "display(df.dtypes)"
   ]
  },
  {
   "cell_type": "markdown",
   "metadata": {
    "id": "yz1urSUGW9iE"
   },
   "source": [
    "### **Q2. Qual a porcentagem de valores ausentes no *dataset*?**"
   ]
  },
  {
   "cell_type": "code",
   "execution_count": 12,
   "metadata": {
    "id": "plk2FjbCXOqP"
   },
   "outputs": [
    {
     "data": {
      "text/plain": [
       "license                           1.000000\n",
       "neighbourhood_group               1.000000\n",
       "reviews_per_month                 0.266366\n",
       "last_review                       0.266366\n",
       "name                              0.000721\n",
       "host_name                         0.000190\n",
       "number_of_reviews                 0.000000\n",
       "number_of_reviews_ltm             0.000000\n",
       "availability_365                  0.000000\n",
       "calculated_host_listings_count    0.000000\n",
       "id                                0.000000\n",
       "minimum_nights                    0.000000\n",
       "room_type                         0.000000\n",
       "longitude                         0.000000\n",
       "latitude                          0.000000\n",
       "neighbourhood                     0.000000\n",
       "host_id                           0.000000\n",
       "price                             0.000000\n",
       "dtype: float64"
      ]
     },
     "execution_count": 12,
     "metadata": {},
     "output_type": "execute_result"
    }
   ],
   "source": [
    "# ordenar em ordem decrescente as variáveis por seus valores ausentes\n",
    "(df.isnull().sum() / df.shape[0]).sort_values(ascending=False)"
   ]
  },
  {
   "cell_type": "markdown",
   "metadata": {},
   "source": [
    "análises:\n",
    "* 100% das colunas: license, neighbourhood_group, estão com valores ausentes                             "
   ]
  },
  {
   "cell_type": "markdown",
   "metadata": {
    "id": "iHXvvHIxaoNc"
   },
   "source": [
    "### **Q3. Qual o tipo de distribuição das variáveis?** "
   ]
  },
  {
   "cell_type": "code",
   "execution_count": 16,
   "metadata": {
    "id": "q2wWSfeRbmBo"
   },
   "outputs": [
    {
     "data": {
      "image/png": "[encoded data removed]",
      "text/plain": [
       "<Figure size 1080x720 with 16 Axes>"
      ]
     },
     "metadata": {
      "needs_background": "light"
     },
     "output_type": "display_data"
    }
   ],
   "source": [
    "# plotar o histograma das variáveis numéricas\n",
    "df.hist(bins=20, figsize=(15, 10));"
   ]
  },
  {
   "cell_type": "markdown",
   "metadata": {
    "id": "7x4aw1j5wNmn"
   },
   "source": [
    "### **Q4. Qual a média dos preços de aluguel?**"
   ]
  },
  {
   "cell_type": "markdown",
   "metadata": {},
   "source": [
    "Pelas distribuições de histogramas acima é possivel ver que ha indi+ícios de Outliers, olhe por exemplo as price, minimun_nights e calculated_host_listings_count.\n",
    "* os valores não seguem uma distribuição e acabam distorcendo a representação"
   ]
  },
  {
   "cell_type": "code",
   "execution_count": 18,
   "metadata": {},
   "outputs": [
    {
     "data": {
      "text/html": [
       "<div>\n",
       "<style scoped>\n",
       "    .dataframe tbody tr th:only-of-type {\n",
       "        vertical-align: middle;\n",
       "    }\n",
       "\n",
       "    .dataframe tbody tr th {\n",
       "        vertical-align: top;\n",
       "    }\n",
       "\n",
       "    .dataframe thead th {\n",
       "        text-align: right;\n",
       "    }\n",
       "</style>\n",
       "<table border=\"1\" class=\"dataframe\">\n",
       "  <thead>\n",
       "    <tr style=\"text-align: right;\">\n",
       "      <th></th>\n",
       "      <th>price</th>\n",
       "      <th>minimum_nights</th>\n",
       "      <th>number_of_reviews</th>\n",
       "      <th>reviews_per_month</th>\n",
       "      <th>calculated_host_listings_count</th>\n",
       "      <th>availability_365</th>\n",
       "      <th>number_of_reviews_ltm</th>\n",
       "    </tr>\n",
       "  </thead>\n",
       "  <tbody>\n",
       "    <tr>\n",
       "      <th>count</th>\n",
       "      <td>26366.000000</td>\n",
       "      <td>26366.000000</td>\n",
       "      <td>26366.000000</td>\n",
       "      <td>19343.000000</td>\n",
       "      <td>26366.000000</td>\n",
       "      <td>26366.000000</td>\n",
       "      <td>26366.000000</td>\n",
       "    </tr>\n",
       "    <tr>\n",
       "      <th>mean</th>\n",
       "      <td>782.525791</td>\n",
       "      <td>5.068156</td>\n",
       "      <td>17.387507</td>\n",
       "      <td>0.964334</td>\n",
       "      <td>8.302966</td>\n",
       "      <td>211.595426</td>\n",
       "      <td>6.000076</td>\n",
       "    </tr>\n",
       "    <tr>\n",
       "      <th>std</th>\n",
       "      <td>5265.469954</td>\n",
       "      <td>25.795705</td>\n",
       "      <td>37.456744</td>\n",
       "      <td>1.074740</td>\n",
       "      <td>23.093704</td>\n",
       "      <td>133.446650</td>\n",
       "      <td>10.429095</td>\n",
       "    </tr>\n",
       "    <tr>\n",
       "      <th>min</th>\n",
       "      <td>0.000000</td>\n",
       "      <td>1.000000</td>\n",
       "      <td>0.000000</td>\n",
       "      <td>0.010000</td>\n",
       "      <td>1.000000</td>\n",
       "      <td>0.000000</td>\n",
       "      <td>0.000000</td>\n",
       "    </tr>\n",
       "    <tr>\n",
       "      <th>25%</th>\n",
       "      <td>183.000000</td>\n",
       "      <td>1.000000</td>\n",
       "      <td>0.000000</td>\n",
       "      <td>0.170000</td>\n",
       "      <td>1.000000</td>\n",
       "      <td>88.000000</td>\n",
       "      <td>0.000000</td>\n",
       "    </tr>\n",
       "    <tr>\n",
       "      <th>50%</th>\n",
       "      <td>303.000000</td>\n",
       "      <td>2.000000</td>\n",
       "      <td>3.000000</td>\n",
       "      <td>0.620000</td>\n",
       "      <td>1.000000</td>\n",
       "      <td>216.000000</td>\n",
       "      <td>1.000000</td>\n",
       "    </tr>\n",
       "    <tr>\n",
       "      <th>75%</th>\n",
       "      <td>600.000000</td>\n",
       "      <td>4.000000</td>\n",
       "      <td>16.000000</td>\n",
       "      <td>1.350000</td>\n",
       "      <td>4.000000</td>\n",
       "      <td>357.000000</td>\n",
       "      <td>7.000000</td>\n",
       "    </tr>\n",
       "    <tr>\n",
       "      <th>max</th>\n",
       "      <td>590887.000000</td>\n",
       "      <td>1125.000000</td>\n",
       "      <td>549.000000</td>\n",
       "      <td>19.150000</td>\n",
       "      <td>189.000000</td>\n",
       "      <td>365.000000</td>\n",
       "      <td>173.000000</td>\n",
       "    </tr>\n",
       "  </tbody>\n",
       "</table>\n",
       "</div>"
      ],
      "text/plain": [
       "               price  minimum_nights  number_of_reviews  reviews_per_month  \\\n",
       "count   26366.000000    26366.000000       26366.000000       19343.000000   \n",
       "mean      782.525791        5.068156          17.387507           0.964334   \n",
       "std      5265.469954       25.795705          37.456744           1.074740   \n",
       "min         0.000000        1.000000           0.000000           0.010000   \n",
       "25%       183.000000        1.000000           0.000000           0.170000   \n",
       "50%       303.000000        2.000000           3.000000           0.620000   \n",
       "75%       600.000000        4.000000          16.000000           1.350000   \n",
       "max    590887.000000     1125.000000         549.000000          19.150000   \n",
       "\n",
       "       calculated_host_listings_count  availability_365  number_of_reviews_ltm  \n",
       "count                    26366.000000      26366.000000           26366.000000  \n",
       "mean                         8.302966        211.595426               6.000076  \n",
       "std                         23.093704        133.446650              10.429095  \n",
       "min                          1.000000          0.000000               0.000000  \n",
       "25%                          1.000000         88.000000               0.000000  \n",
       "50%                          1.000000        216.000000               1.000000  \n",
       "75%                          4.000000        357.000000               7.000000  \n",
       "max                        189.000000        365.000000             173.000000  "
      ]
     },
     "execution_count": 18,
     "metadata": {},
     "output_type": "execute_result"
    }
   ],
   "source": [
    "df[['price', 'minimum_nights', 'number_of_reviews', 'reviews_per_month', 'calculated_host_listings_count',\n",
    "    'availability_365', 'number_of_reviews_ltm']].describe()"
   ]
  },
  {
   "cell_type": "markdown",
   "metadata": {},
   "source": [
    "Olhando quadro resumo, podemos confirmar algumas hipoteses como:\n",
    "* a variavel price possui 75% dos valores abaixo de 600, porém a valor máximo de 590887\n",
    "* a quantidade minima de noite (minimum_nights) é em média de 6 noites, porém o valor máximo no dataset é de 1125 noites"
   ]
  },
  {
   "cell_type": "markdown",
   "metadata": {},
   "source": [
    "#### **Boxpot para minimum_nights**"
   ]
  },
  {
   "cell_type": "code",
   "execution_count": 29,
   "metadata": {},
   "outputs": [
    {
     "data": {
      "image/png": "[encoded data removed]",
      "text/plain": [
       "<Figure size 1080x216 with 1 Axes>"
      ]
     },
     "metadata": {
      "needs_background": "light"
     },
     "output_type": "display_data"
    },
    {
     "name": "stdout",
     "output_type": "stream",
     "text": [
      "minimum_nights: Média: 5.068156\n",
      "minimum_nights: valores acima de 30 dias: 241\n",
      "minimum_nights: %valores acima de 30 dias 0.9140559811878936%\n"
     ]
    }
   ],
   "source": [
    "df['minimum_nights'].plot(kind='box', vert=False, figsize=(15, 3))\n",
    "plt.show()\n",
    "\n",
    "print(f'minimum_nights: Média: 5.068156')\n",
    "print(f\"minimum_nights: valores acima de 30 dias: {len(df[df['minimum_nights'] > 30])}\")\n",
    "print(f\"minimum_nights: %valores acima de 30 dias {(len(df[df['minimum_nights'] > 30]) /  df.shape[0]) * 100}%\")"
   ]
  },
  {
   "cell_type": "markdown",
   "metadata": {},
   "source": [
    "Observe que menos de 1% dos dados para 'minimum_nights' são maiores que 30 dias, ou seja esses dados estão destruindo as informações estatisticas"
   ]
  },
  {
   "cell_type": "markdown",
   "metadata": {},
   "source": [
    "#### **Boxpot para price**"
   ]
  },
  {
   "cell_type": "code",
   "execution_count": 34,
   "metadata": {},
   "outputs": [
    {
     "data": {
      "image/png": "[encoded data removed]",
      "text/plain": [
       "<Figure size 1080x216 with 1 Axes>"
      ]
     },
     "metadata": {
      "needs_background": "light"
     },
     "output_type": "display_data"
    },
    {
     "name": "stdout",
     "output_type": "stream",
     "text": [
      "price: Média: 782.5257907911705\n",
      "minimum_nights: valores acima de R$1500,00: 2022\n",
      "minimum_nights: %valores acima de R$1500,00 7.6689676098005%\n"
     ]
    }
   ],
   "source": [
    "df['price'].plot(kind='box', vert=False, figsize=(15, 3))\n",
    "plt.show()\n",
    "\n",
    "print(f'price: Média: {df[\"price\"].mean()}')\n",
    "print(f\"minimum_nights: valores acima de R$1500,00: {len(df[df['price'] > 1500])}\")\n",
    "print(f\"minimum_nights: %valores acima de R$1500,00 {(len(df[df['price'] > 1500]) /  df.shape[0]) * 100}%\")"
   ]
  },
  {
   "cell_type": "markdown",
   "metadata": {},
   "source": [
    "Observe que menos de 8% dos dados para 'price' são maiores que R$1500.00, chegando a perto dos 600 mil reais, ou seja esses dados estão destruindo as informações estatisticas, e podem ser removidos da analise"
   ]
  },
  {
   "cell_type": "markdown",
   "metadata": {},
   "source": [
    "#### histogramas sem outliers"
   ]
  },
  {
   "cell_type": "code",
   "execution_count": 36,
   "metadata": {},
   "outputs": [
    {
     "data": {
      "image/png": "[encoded data removed]",
      "text/plain": [
       "<Figure size 1080x720 with 12 Axes>"
      ]
     },
     "metadata": {
      "needs_background": "light"
     },
     "output_type": "display_data"
    }
   ],
   "source": [
    "#removendo os outliers das colunas 'minimum_nights' e 'price'\n",
    "df_limpo = df.copy()\n",
    "df_limpo.drop(df_limpo[df_limpo['minimum_nights'] > 30].index, axis=0, inplace=True)\n",
    "df_limpo.drop(df_limpo[df_limpo['price'] > 1500].index, axis=0, inplace=True)\n",
    "\n",
    "#removendo a colunas 'neighbourhood_group' e 'license'\n",
    "df_limpo.drop(['neighbourhood_group','license'], axis=1, inplace=True)\n",
    "\n",
    "#plotar os histograms\n",
    "df_limpo.hist(bins=20, figsize=(15, 10));"
   ]
  },
  {
   "cell_type": "markdown",
   "metadata": {
    "id": "IXn2oIo5qx-w"
   },
   "source": [
    "### **Q4. Qual a correlação existente entre as variáveis**"
   ]
  },
  {
   "cell_type": "code",
   "execution_count": 37,
   "metadata": {},
   "outputs": [
    {
     "data": {
      "text/plain": [
       "Index(['id', 'name', 'host_id', 'host_name', 'neighbourhood', 'latitude',\n",
       "       'longitude', 'room_type', 'price', 'minimum_nights',\n",
       "       'number_of_reviews', 'last_review', 'reviews_per_month',\n",
       "       'calculated_host_listings_count', 'availability_365',\n",
       "       'number_of_reviews_ltm'],\n",
       "      dtype='object')"
      ]
     },
     "execution_count": 37,
     "metadata": {},
     "output_type": "execute_result"
    }
   ],
   "source": [
    "df_limpo.columns"
   ]
  },
  {
   "cell_type": "code",
   "execution_count": 40,
   "metadata": {
    "id": "x2ayzBajqxyd"
   },
   "outputs": [
    {
     "data": {
      "text/html": [
       "<div>\n",
       "<style scoped>\n",
       "    .dataframe tbody tr th:only-of-type {\n",
       "        vertical-align: middle;\n",
       "    }\n",
       "\n",
       "    .dataframe tbody tr th {\n",
       "        vertical-align: top;\n",
       "    }\n",
       "\n",
       "    .dataframe thead th {\n",
       "        text-align: right;\n",
       "    }\n",
       "</style>\n",
       "<table border=\"1\" class=\"dataframe\">\n",
       "  <thead>\n",
       "    <tr style=\"text-align: right;\">\n",
       "      <th></th>\n",
       "      <th>price</th>\n",
       "      <th>minimum_nights</th>\n",
       "      <th>number_of_reviews</th>\n",
       "      <th>reviews_per_month</th>\n",
       "      <th>calculated_host_listings_count</th>\n",
       "      <th>availability_365</th>\n",
       "    </tr>\n",
       "  </thead>\n",
       "  <tbody>\n",
       "    <tr>\n",
       "      <th>price</th>\n",
       "      <td>1.000000</td>\n",
       "      <td>0.105159</td>\n",
       "      <td>-0.164600</td>\n",
       "      <td>-0.150887</td>\n",
       "      <td>0.089999</td>\n",
       "      <td>0.131483</td>\n",
       "    </tr>\n",
       "    <tr>\n",
       "      <th>minimum_nights</th>\n",
       "      <td>0.105159</td>\n",
       "      <td>1.000000</td>\n",
       "      <td>-0.068862</td>\n",
       "      <td>-0.174652</td>\n",
       "      <td>-0.019867</td>\n",
       "      <td>-0.015581</td>\n",
       "    </tr>\n",
       "    <tr>\n",
       "      <th>number_of_reviews</th>\n",
       "      <td>-0.164600</td>\n",
       "      <td>-0.068862</td>\n",
       "      <td>1.000000</td>\n",
       "      <td>0.406566</td>\n",
       "      <td>-0.047691</td>\n",
       "      <td>-0.137479</td>\n",
       "    </tr>\n",
       "    <tr>\n",
       "      <th>reviews_per_month</th>\n",
       "      <td>-0.150887</td>\n",
       "      <td>-0.174652</td>\n",
       "      <td>0.406566</td>\n",
       "      <td>1.000000</td>\n",
       "      <td>-0.016148</td>\n",
       "      <td>-0.041769</td>\n",
       "    </tr>\n",
       "    <tr>\n",
       "      <th>calculated_host_listings_count</th>\n",
       "      <td>0.089999</td>\n",
       "      <td>-0.019867</td>\n",
       "      <td>-0.047691</td>\n",
       "      <td>-0.016148</td>\n",
       "      <td>1.000000</td>\n",
       "      <td>-0.010726</td>\n",
       "    </tr>\n",
       "    <tr>\n",
       "      <th>availability_365</th>\n",
       "      <td>0.131483</td>\n",
       "      <td>-0.015581</td>\n",
       "      <td>-0.137479</td>\n",
       "      <td>-0.041769</td>\n",
       "      <td>-0.010726</td>\n",
       "      <td>1.000000</td>\n",
       "    </tr>\n",
       "  </tbody>\n",
       "</table>\n",
       "</div>"
      ],
      "text/plain": [
       "                                   price  minimum_nights  number_of_reviews  \\\n",
       "price                           1.000000        0.105159          -0.164600   \n",
       "minimum_nights                  0.105159        1.000000          -0.068862   \n",
       "number_of_reviews              -0.164600       -0.068862           1.000000   \n",
       "reviews_per_month              -0.150887       -0.174652           0.406566   \n",
       "calculated_host_listings_count  0.089999       -0.019867          -0.047691   \n",
       "availability_365                0.131483       -0.015581          -0.137479   \n",
       "\n",
       "                                reviews_per_month  \\\n",
       "price                                   -0.150887   \n",
       "minimum_nights                          -0.174652   \n",
       "number_of_reviews                        0.406566   \n",
       "reviews_per_month                        1.000000   \n",
       "calculated_host_listings_count          -0.016148   \n",
       "availability_365                        -0.041769   \n",
       "\n",
       "                                calculated_host_listings_count  \\\n",
       "price                                                 0.089999   \n",
       "minimum_nights                                       -0.019867   \n",
       "number_of_reviews                                    -0.047691   \n",
       "reviews_per_month                                    -0.016148   \n",
       "calculated_host_listings_count                        1.000000   \n",
       "availability_365                                     -0.010726   \n",
       "\n",
       "                                availability_365  \n",
       "price                                   0.131483  \n",
       "minimum_nights                         -0.015581  \n",
       "number_of_reviews                      -0.137479  \n",
       "reviews_per_month                      -0.041769  \n",
       "calculated_host_listings_count         -0.010726  \n",
       "availability_365                        1.000000  "
      ]
     },
     "metadata": {},
     "output_type": "display_data"
    }
   ],
   "source": [
    "# criar uma matriz de correlação\n",
    "corr = df_limpo[['price','minimum_nights', 'number_of_reviews', 'reviews_per_month', 'calculated_host_listings_count',\n",
    "                 'availability_365']].corr()\n",
    "display(corr)"
   ]
  },
  {
   "cell_type": "markdown",
   "metadata": {
    "id": "7b6RMWpuHKN-"
   },
   "source": [
    "### **Q5. Qual o tipo de imóvel mais alugado no Airbnb?**\n",
    "\n",
    "A coluna da variavel 'roo_type', indica o tipo de locação que está anunciada no airbnb, se é de um imovel inteiro, ou apenas um querto, ou querto compartilhado."
   ]
  },
  {
   "cell_type": "code",
   "execution_count": 43,
   "metadata": {
    "id": "ueLPNWvPHgfB"
   },
   "outputs": [
    {
     "data": {
      "text/plain": [
       "Entire home/apt    0.753501\n",
       "Private room       0.224377\n",
       "Shared room        0.019886\n",
       "Hotel room         0.002237\n",
       "Name: room_type, dtype: float64"
      ]
     },
     "execution_count": 43,
     "metadata": {},
     "output_type": "execute_result"
    }
   ],
   "source": [
    "# mostrar a quantidade de cada tipo de imóvel disponível\n",
    "df_limpo['room_type'].value_counts() / df_limpo.shape[0]"
   ]
  },
  {
   "cell_type": "markdown",
   "metadata": {},
   "source": [
    "Na base de dados analisada, cerca de 75% das locações são de casas completas, representando a maioria, enquanto os quartos de hoteis representam a minoria, com menos de 1% dos anúncios"
   ]
  },
  {
   "cell_type": "markdown",
   "metadata": {
    "id": "MFa5NbnLJMcd"
   },
   "source": [
    "### **Q6. Qual a localidade mais cara do dataset?**\n",
    "\n"
   ]
  },
  {
   "cell_type": "code",
   "execution_count": 56,
   "metadata": {
    "id": "MD_xa143JZpi"
   },
   "outputs": [
    {
     "data": {
      "text/plain": [
       "neighbourhood\n",
       "Caju                      1033.000000\n",
       "Ricardo de Albuquerque     943.666667\n",
       "Complexo do Alemão         900.000000\n",
       "Anchieta                   800.000000\n",
       "Grumari                    673.800000\n",
       "Joá                        565.777778\n",
       "São Conrado                563.075758\n",
       "Santíssimo                 563.000000\n",
       "Lagoa                      558.354286\n",
       "Gericinó                   546.000000\n",
       "Name: price, dtype: float64"
      ]
     },
     "execution_count": 56,
     "metadata": {},
     "output_type": "execute_result"
    }
   ],
   "source": [
    "# ver preços por bairros, na média\n",
    "df_limpo.groupby(['neighbourhood'])['price'].mean().sort_values(ascending=False)[0:10]"
   ]
  },
  {
   "cell_type": "markdown",
   "metadata": {},
   "source": [
    "análise, pergunta:\n",
    "sabemos que o complexo do alemão é uma comunidade do rio, por que os alugueis naquela região é mais caro?"
   ]
  },
  {
   "cell_type": "code",
   "execution_count": 64,
   "metadata": {},
   "outputs": [
    {
     "data": {
      "text/html": [
       "<div>\n",
       "<style scoped>\n",
       "    .dataframe tbody tr th:only-of-type {\n",
       "        vertical-align: middle;\n",
       "    }\n",
       "\n",
       "    .dataframe tbody tr th {\n",
       "        vertical-align: top;\n",
       "    }\n",
       "\n",
       "    .dataframe thead th {\n",
       "        text-align: right;\n",
       "    }\n",
       "</style>\n",
       "<table border=\"1\" class=\"dataframe\">\n",
       "  <thead>\n",
       "    <tr style=\"text-align: right;\">\n",
       "      <th></th>\n",
       "      <th>id</th>\n",
       "      <th>name</th>\n",
       "      <th>host_id</th>\n",
       "      <th>host_name</th>\n",
       "      <th>neighbourhood</th>\n",
       "      <th>latitude</th>\n",
       "      <th>longitude</th>\n",
       "      <th>room_type</th>\n",
       "      <th>price</th>\n",
       "      <th>minimum_nights</th>\n",
       "      <th>number_of_reviews</th>\n",
       "      <th>last_review</th>\n",
       "      <th>reviews_per_month</th>\n",
       "      <th>calculated_host_listings_count</th>\n",
       "      <th>availability_365</th>\n",
       "      <th>number_of_reviews_ltm</th>\n",
       "    </tr>\n",
       "  </thead>\n",
       "  <tbody>\n",
       "    <tr>\n",
       "      <th>8805</th>\n",
       "      <td>21448656</td>\n",
       "      <td>Casa 1 quarto alem</td>\n",
       "      <td>155642978</td>\n",
       "      <td>Felipe</td>\n",
       "      <td>Complexo do Alemão</td>\n",
       "      <td>-22.85998</td>\n",
       "      <td>-43.27476</td>\n",
       "      <td>Shared room</td>\n",
       "      <td>900</td>\n",
       "      <td>1</td>\n",
       "      <td>1</td>\n",
       "      <td>2017-11-28</td>\n",
       "      <td>0.02</td>\n",
       "      <td>1</td>\n",
       "      <td>365</td>\n",
       "      <td>0</td>\n",
       "    </tr>\n",
       "  </tbody>\n",
       "</table>\n",
       "</div>"
      ],
      "text/plain": [
       "            id                name    host_id host_name       neighbourhood  \\\n",
       "8805  21448656  Casa 1 quarto alem  155642978    Felipe  Complexo do Alemão   \n",
       "\n",
       "      latitude  longitude    room_type  price  minimum_nights  \\\n",
       "8805 -22.85998  -43.27476  Shared room    900               1   \n",
       "\n",
       "      number_of_reviews last_review  reviews_per_month  \\\n",
       "8805                  1  2017-11-28               0.02   \n",
       "\n",
       "      calculated_host_listings_count  availability_365  number_of_reviews_ltm  \n",
       "8805                               1               365                      0  "
      ]
     },
     "metadata": {},
     "output_type": "display_data"
    }
   ],
   "source": [
    "#ver a quantidade de imóveis no complexo do alemão\n",
    "display(df_limpo[df_limpo[\"neighbourhood\"] == \"Complexo do Alemão\"])"
   ]
  },
  {
   "cell_type": "markdown",
   "metadata": {},
   "source": [
    "existe um único dado sobre os imóveis disponiveis para aluguel no complexo do alemão\n",
    "o volume de dados no bairro do complexo do alemão não é significativo o suficiente para representar os imóveis para alugar naquela região"
   ]
  },
  {
   "cell_type": "code",
   "execution_count": 67,
   "metadata": {
    "id": "UxVJqJ_3W59I"
   },
   "outputs": [
    {
     "data": {
      "image/png": "[encoded data removed]",
      "text/plain": [
       "<Figure size 864x576 with 2 Axes>"
      ]
     },
     "metadata": {
      "needs_background": "light"
     },
     "output_type": "display_data"
    }
   ],
   "source": [
    "# plotar os imóveis pela latitude-longitude\n",
    "df_limpo.plot(kind='scatter', x='longitude', y='latitude', alpha=0.4, c=df_limpo['price'], s=8,\n",
    "             cmap=plt.get_cmap('jet'), figsize=(12, 8))\n",
    "plt.show()"
   ]
  },
  {
   "cell_type": "markdown",
   "metadata": {
    "id": "vTneAMRUYvr1"
   },
   "source": [
    "### **Q7. Qual é a média do mínimo de noites para aluguel (minimum_nights)?**"
   ]
  },
  {
   "cell_type": "code",
   "execution_count": 71,
   "metadata": {
    "id": "_VzNhrEgY82N"
   },
   "outputs": [
    {
     "name": "stdout",
     "output_type": "stream",
     "text": [
      "o minimo de noites para locação é de 3.3714889386030324\n"
     ]
    }
   ],
   "source": [
    "# ver a média da coluna `minimum_nights``\n",
    "print(f\"o minimo de noites para locação é de {df_limpo['minimum_nights'].mean()}\")"
   ]
  }
 ],
 "metadata": {
  "colab": {
   "provenance": []
  },
  "kernelspec": {
   "display_name": "Python 3 (ipykernel)",
   "language": "python",
   "name": "python3"
  },
  "language_info": {
   "codemirror_mode": {
    "name": "ipython",
    "version": 3
   },
   "file_extension": ".py",
   "mimetype": "text/x-python",
   "name": "python",
   "nbconvert_exporter": "python",
   "pygments_lexer": "ipython3",
   "version": "3.9.12"
  }
 },
 "nbformat": 4,
 "nbformat_minor": 1
}
