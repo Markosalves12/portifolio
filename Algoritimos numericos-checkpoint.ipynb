{
 "cells": [
  {
   "cell_type": "code",
   "execution_count": null,
   "id": "d3a44c60",
   "metadata": {},
   "outputs": [],
   "source": [
    "import pandas as pd\n",
    "import numpy as np\n",
    "import time\n",
    "import pandas as pd"
   ]
  },
  {
   "cell_type": "code",
   "execution_count": null,
   "id": "1fabb8a0",
   "metadata": {},
   "outputs": [],
   "source": [
    "# Variaveis de controle que serão ultilizadas no projeto\n",
    "tolerancias = list() # Lista de tolerancias\n",
    "omegas = list() # lista de erros maximos permitido\n",
    "max_iterations = list() # lista de iterações máximas usados\n",
    "tempos = list() # tempo q o algoritimo levou pra finalizar\n",
    "metodos = list() # metodo ultilizado\n",
    "tipo_matriz = list() # tipo de matriz veiculada\n",
    "\n",
    "W = [1,1.3,1.4,1.50,1.6,1.7,1.8,1.9,2] # valores de omega sugeridos no arquivo\n",
    "N = [500,1000,5000,10000] # valores de maximas iterações sugeridos no arquivo\n",
    "TOL = [0.001, 0.0000001] # valores de tolerancia sugeridos no arquivo"
   ]
  },
  {
   "cell_type": "code",
   "execution_count": 3,
   "id": "7c5313a7",
   "metadata": {},
   "outputs": [
    {
     "name": "stdout",
     "output_type": "stream",
     "text": [
      "Qual o formato da matriz (>=)? 5\n"
     ]
    }
   ],
   "source": [
    "while True:\n",
    "    dim_matriz = int(input(\"Qual o formato da matriz (>=3)? \"))\n",
    "    if dim_matriz <= 2:\n",
    "        print(\"Matriz muito pequena\")\n",
    "    else:\n",
    "        break"
   ]
  },
  {
   "cell_type": "markdown",
   "id": "1d5d096f",
   "metadata": {},
   "source": [
    "# Matriz triadiagonal"
   ]
  },
  {
   "cell_type": "code",
   "execution_count": 55,
   "id": "15efe759",
   "metadata": {},
   "outputs": [
    {
     "data": {
      "text/plain": [
       "[[8, -2, 0, 0, 0, 0, 0],\n",
       " [-1, 8, -2, 0, 0, 0, 0],\n",
       " [0, -1, 8, -2, 0, 0, 0],\n",
       " [0, 0, -1, 8, -2, 0, 0],\n",
       " [0, 0, 0, -1, 8, -2, 0],\n",
       " [0, 0, 0, 0, -1, 8, -2],\n",
       " [0, 0, 0, 0, 0, -1, 8]]"
      ]
     },
     "execution_count": 55,
     "metadata": {},
     "output_type": "execute_result"
    }
   ],
   "source": [
    "#Função que gera uma matriz triadiagonal como especificada pelo exercicio\n",
    "\n",
    "def gerar_matriz(n):\n",
    "    matriz = [[0] * n for _ in range(n)]  # Inicializa a matriz com zeros\n",
    "    \n",
    "    for i in range(n):\n",
    "        for j in range(n):\n",
    "            if i == j:\n",
    "                matriz[i][j] = 8\n",
    "            elif i < j:\n",
    "                matriz[i][j] = -2\n",
    "            elif i > j:\n",
    "                matriz[i][j] = -1\n",
    "            if j >= i + 2 or i >= j + 2:\n",
    "                matriz[i][j] = 0\n",
    "    \n",
    "    return matriz\n",
    "\n",
    "matriz =  gerar_matriz(dim_matriz)\n",
    "matriz"
   ]
  },
  {
   "cell_type": "code",
   "execution_count": 63,
   "id": "5e23a3c3",
   "metadata": {},
   "outputs": [],
   "source": [
    "# Função que convete a matriz gerada acima numa matriz nx3 como proposto pelo exercicio\n",
    "def converter_matriz(matriz):\n",
    "    n = len(matriz)\n",
    "    matriz_convertida = [[0] * 3 for _ in range(n)]  # Inicializa a matriz convertida com zeros\n",
    "    vetor_independente = [0] * n  # Inicializa o vetor de termos independentes com zeros\n",
    "\n",
    "    for i in range(n):\n",
    "        for j in range(n):\n",
    "            if i == j:\n",
    "                matriz_convertida[i][1] = matriz[i][j]\n",
    "            elif j == i + 1:\n",
    "                matriz_convertida[i][2] = matriz[i][j]\n",
    "            elif i == j + 1:\n",
    "                matriz_convertida[i][0] = matriz[i][j]\n",
    "            \n",
    "            vetor_independente[i] += matriz[i][j]\n",
    "\n",
    "    return matriz_convertida, vetor_independente\n",
    "\n",
    "#Converter a matriz e gerar um vetor independente\n",
    "matriz_convertida, vetor = converter_matriz(matriz)\n",
    "matriz_convertida, vetor = np.array(matriz_convertida), np.array(vetor)\n"
   ]
  },
  {
   "cell_type": "code",
   "execution_count": 105,
   "id": "a343b016",
   "metadata": {},
   "outputs": [],
   "source": [
    "#Função que resolve pelo sistema thomas\n",
    "def resolver_sistema_thomas(a,b,c,d):  \n",
    "    inicio = time.time()\n",
    "    #preliminares  \n",
    "    a = a.astype('double')  \n",
    "    b = b.astype('double')  \n",
    "    c = c.astype('double')  \n",
    "    d = d.astype('double')  \n",
    " \n",
    "    #recupera ordem do sistema  \n",
    "    n=np.shape(a)[0]  \n",
    " \n",
    "    #inicializa vetor x  \n",
    "    x=np.zeros(n)  \n",
    " \n",
    "    #calcula cl e dl sobrescrevendo-os em c e d  \n",
    "    c[0]=c[0]/b[0]  \n",
    "    for i in np.arange(1,n-1,1):  \n",
    "       c[i]=c[i]/(b[i]-a[i]*c[i-1])  \n",
    " \n",
    "    d[0]=d[0]/b[0]  \n",
    "    for i in np.arange(1,n,1):  \n",
    "       d[i]=(d[i]-a[i]*d[i-1])/(b[i]-a[i]*c[i-1])  \n",
    " \n",
    "    #faz substituicao reversa para obter a solucao x  \n",
    "    x[n-1]=d[n-1]  \n",
    "    for i in np.arange(n-2,-1,-1):  \n",
    "       x[i]=d[i]-c[i]*x[i+1]\n",
    "    fim = time.time()\n",
    "    tempo =  fim - inicio\n",
    "    tolerancias.append('Nan')\n",
    "    omegas.append('Nan')\n",
    "    max_iterations.append('Nan')\n",
    "    tempos.append(tempo)\n",
    "    metodos.append('Thomas')\n",
    "    tipo_matriz.append('Tridiagonal')\n",
    "    return x  \n"
   ]
  },
  {
   "cell_type": "code",
   "execution_count": 106,
   "id": "5d683e87",
   "metadata": {},
   "outputs": [
    {
     "data": {
      "text/plain": [
       "array([1., 1., 1., 1., 1., 1., 1.])"
      ]
     },
     "execution_count": 106,
     "metadata": {},
     "output_type": "execute_result"
    }
   ],
   "source": [
    "#Resolução pelo sistema tomas\n",
    "\n",
    "a=matriz_convertida[:,0]\n",
    "b=matriz_convertida[:,1]  \n",
    "c=matriz_convertida[:,2]\n",
    "d=vetor\n",
    "\n",
    "triadiagonal_thomas = resolver_sistema_thomas(a,b,c,d)\n",
    "triadiagonal_thomas\n",
    "\n",
    "# A resolução pelo sistema thomas para a matriz proposta acaba gerando divisão por zero"
   ]
  },
  {
   "cell_type": "markdown",
   "id": "f7ecb82f",
   "metadata": {},
   "source": [
    "### Avaliando o algoritimo SOR"
   ]
  },
  {
   "cell_type": "code",
   "execution_count": 107,
   "id": "1ad96d79",
   "metadata": {},
   "outputs": [],
   "source": [
    "import numpy as np\n",
    "\n",
    "def resolver_sistema_sor(matrizsor, vetor_independente, omega, max_iteracoes, tolerancia, metodo, tipomatriz):\n",
    "    matriz = np.array(matrizsor)\n",
    "    n = len(matriz)\n",
    "    x = np.zeros(n)  # Inicializa o vetor solução x com zeros\n",
    "    inicio = time.time()\n",
    "    for _ in range(max_iteracoes):\n",
    "        x_anterior = x.copy()\n",
    "        \n",
    "        for i in range(n):\n",
    "            soma1 = np.dot(matriz[i, :i], x[:i])\n",
    "            soma2 = np.dot(matriz[i, i + 1:], x_anterior[i + 1:])\n",
    "            \n",
    "            x[i] = (1 - omega) * x_anterior[i] + (omega / matriz[i, i]) * (vetor_independente[i] - soma1 - soma2)\n",
    "        \n",
    "        erro = np.linalg.norm(x - x_anterior)\n",
    "        \n",
    "        if erro < tolerancia:\n",
    "            break\n",
    "        fim = time.time()\n",
    "        tempo =  fim - inicio\n",
    "        tolerancias.append(tolerancia)\n",
    "        omegas.append(omega)\n",
    "        max_iterations.append(max_iteracoes)\n",
    "        tempos.append(tempo)\n",
    "        metodos.append(metodo)\n",
    "        tipo_matriz.append(tipomatriz)\n",
    "    \n",
    "    return x"
   ]
  },
  {
   "cell_type": "code",
   "execution_count": 34,
   "id": "f1772b61",
   "metadata": {},
   "outputs": [
    {
     "data": {
      "text/plain": [
       "array([ 3.50817871, -1.09557724,  3.76223183, -1.48833752,  4.24416876])"
      ]
     },
     "execution_count": 34,
     "metadata": {},
     "output_type": "execute_result"
    }
   ],
   "source": [
    "X = resolver_sistema_sor(matriz, vetor, 1, 10, 0.001)\n",
    "X"
   ]
  },
  {
   "cell_type": "markdown",
   "id": "8423453e",
   "metadata": {},
   "source": [
    "### Tetando o algoritimo SOR combinando varios parâmetros"
   ]
  },
  {
   "cell_type": "code",
   "execution_count": 38,
   "id": "26530479",
   "metadata": {},
   "outputs": [
    {
     "data": {
      "text/html": [
       "<div>\n",
       "<style scoped>\n",
       "    .dataframe tbody tr th:only-of-type {\n",
       "        vertical-align: middle;\n",
       "    }\n",
       "\n",
       "    .dataframe tbody tr th {\n",
       "        vertical-align: top;\n",
       "    }\n",
       "\n",
       "    .dataframe thead th {\n",
       "        text-align: right;\n",
       "    }\n",
       "</style>\n",
       "<table border=\"1\" class=\"dataframe\">\n",
       "  <thead>\n",
       "    <tr style=\"text-align: right;\">\n",
       "      <th></th>\n",
       "      <th>Omega</th>\n",
       "      <th>Tolerância</th>\n",
       "      <th>Max_iterations</th>\n",
       "      <th>Tempo</th>\n",
       "    </tr>\n",
       "  </thead>\n",
       "  <tbody>\n",
       "    <tr>\n",
       "      <th>0</th>\n",
       "      <td>1.0</td>\n",
       "      <td>1.000000e-03</td>\n",
       "      <td>500</td>\n",
       "      <td>0.000000</td>\n",
       "    </tr>\n",
       "    <tr>\n",
       "      <th>1</th>\n",
       "      <td>1.0</td>\n",
       "      <td>1.000000e-07</td>\n",
       "      <td>500</td>\n",
       "      <td>0.015636</td>\n",
       "    </tr>\n",
       "    <tr>\n",
       "      <th>2</th>\n",
       "      <td>1.0</td>\n",
       "      <td>1.000000e-03</td>\n",
       "      <td>1000</td>\n",
       "      <td>0.015636</td>\n",
       "    </tr>\n",
       "    <tr>\n",
       "      <th>3</th>\n",
       "      <td>1.0</td>\n",
       "      <td>1.000000e-07</td>\n",
       "      <td>1000</td>\n",
       "      <td>0.015636</td>\n",
       "    </tr>\n",
       "    <tr>\n",
       "      <th>4</th>\n",
       "      <td>1.0</td>\n",
       "      <td>1.000000e-03</td>\n",
       "      <td>5000</td>\n",
       "      <td>0.031261</td>\n",
       "    </tr>\n",
       "    <tr>\n",
       "      <th>...</th>\n",
       "      <td>...</td>\n",
       "      <td>...</td>\n",
       "      <td>...</td>\n",
       "      <td>...</td>\n",
       "    </tr>\n",
       "    <tr>\n",
       "      <th>67</th>\n",
       "      <td>2.0</td>\n",
       "      <td>1.000000e-07</td>\n",
       "      <td>1000</td>\n",
       "      <td>0.188354</td>\n",
       "    </tr>\n",
       "    <tr>\n",
       "      <th>68</th>\n",
       "      <td>2.0</td>\n",
       "      <td>1.000000e-03</td>\n",
       "      <td>5000</td>\n",
       "      <td>0.486782</td>\n",
       "    </tr>\n",
       "    <tr>\n",
       "      <th>69</th>\n",
       "      <td>2.0</td>\n",
       "      <td>1.000000e-07</td>\n",
       "      <td>5000</td>\n",
       "      <td>0.755832</td>\n",
       "    </tr>\n",
       "    <tr>\n",
       "      <th>70</th>\n",
       "      <td>2.0</td>\n",
       "      <td>1.000000e-03</td>\n",
       "      <td>10000</td>\n",
       "      <td>1.397207</td>\n",
       "    </tr>\n",
       "    <tr>\n",
       "      <th>71</th>\n",
       "      <td>2.0</td>\n",
       "      <td>1.000000e-07</td>\n",
       "      <td>10000</td>\n",
       "      <td>1.964416</td>\n",
       "    </tr>\n",
       "  </tbody>\n",
       "</table>\n",
       "<p>72 rows × 4 columns</p>\n",
       "</div>"
      ],
      "text/plain": [
       "    Omega    Tolerância  Max_iterations     Tempo\n",
       "0     1.0  1.000000e-03             500  0.000000\n",
       "1     1.0  1.000000e-07             500  0.015636\n",
       "2     1.0  1.000000e-03            1000  0.015636\n",
       "3     1.0  1.000000e-07            1000  0.015636\n",
       "4     1.0  1.000000e-03            5000  0.031261\n",
       "..    ...           ...             ...       ...\n",
       "67    2.0  1.000000e-07            1000  0.188354\n",
       "68    2.0  1.000000e-03            5000  0.486782\n",
       "69    2.0  1.000000e-07            5000  0.755832\n",
       "70    2.0  1.000000e-03           10000  1.397207\n",
       "71    2.0  1.000000e-07           10000  1.964416\n",
       "\n",
       "[72 rows x 4 columns]"
      ]
     },
     "execution_count": 38,
     "metadata": {},
     "output_type": "execute_result"
    }
   ],
   "source": [
    "W = [1,1.3,1.4,1.50,1.6,1.7,1.8,1.9,2] # valores de omega\n",
    "N = [500,1000,5000,10000] # valores de maximas iterações\n",
    "TOL = [0.001, 0.0000001] # valores de tolerancia\n",
    "\n",
    "tolerancias = list() \n",
    "omegas = list()\n",
    "max_iterations = list()\n",
    "tempos = list()\n",
    "# estrutura de repetiçõa combinando todas os valores de omega, max iterations e tolerancias\n",
    "for w in W:\n",
    "    inicio = time.time()\n",
    "    for n in N:\n",
    "        for tol in TOL: \n",
    "            X = resolver_sistema_sor(matriz, vetor, omega=w, max_iteracoes=n, tolerancia=tol)\n",
    "            fim = time.time()\n",
    "            tempo =  fim - inicio\n",
    "            tolerancias.append(tol)\n",
    "            omegas.append(w)\n",
    "            max_iterations.append(n)\n",
    "            tempos.append(tempo)\n",
    "            \n",
    "# armazenamento dos resultado num dataframe\n",
    "data_frame_sor = pd.DataFrame({'Omega': omegas, 'Tolerância': tolerancias, 'Max_iterations': max_iterations, 'Tempo': tempos})\n",
    "data_frame_sor"
   ]
  },
  {
   "cell_type": "markdown",
   "id": "73e5dd0b",
   "metadata": {},
   "source": [
    "# Matriz penta diagonal"
   ]
  },
  {
   "cell_type": "code",
   "execution_count": 39,
   "id": "379f85b0",
   "metadata": {},
   "outputs": [
    {
     "name": "stdout",
     "output_type": "stream",
     "text": [
      "Qual o formato da matriz (>=5)? 7\n"
     ]
    }
   ],
   "source": [
    "# a matriz penta diagonal precisa ter dimensão maior que n=5 no minimo\n",
    "while True:\n",
    "    dim_matriz = int(input(\"Qual o formato da matriz (>=5)? \"))\n",
    "    if dim_matriz <= 5:\n",
    "        print(\"Matriz muito pequena\")\n",
    "    else:\n",
    "        break"
   ]
  },
  {
   "cell_type": "code",
   "execution_count": 40,
   "id": "9665bfb8",
   "metadata": {},
   "outputs": [
    {
     "name": "stdout",
     "output_type": "stream",
     "text": [
      "Matriz Penta Diagonal:\n",
      "[[ 8. -2.  0.  0. -2.  0.  0.]\n",
      " [-1.  8. -2.  0.  0. -2.  0.]\n",
      " [ 0. -1.  8. -2.  0.  0. -2.]\n",
      " [ 0.  0. -1.  8. -2.  0.  0.]\n",
      " [-1.  0.  0. -1.  8. -2.  0.]\n",
      " [ 0. -1.  0.  0. -1.  8. -2.]\n",
      " [ 0.  0. -1.  0.  0. -1.  8.]]\n",
      "\n",
      "Vetor Independente:\n",
      "[4 3 3 5 4 4 6]\n"
     ]
    }
   ],
   "source": [
    "# Função que gera uma matriz penta diagonal no moldes do exercicio\n",
    "import numpy as np\n",
    "\n",
    "def gerar_matriz_penta_diagonal(n, q):\n",
    "    matriz = np.zeros((n, n))\n",
    "    \n",
    "    for i in range(n):\n",
    "        matriz[i, i] = 8  # Diagonal principal\n",
    "        \n",
    "        if i < n-1:\n",
    "            matriz[i+1, i] = -1  # Diagonal abaixo da principal\n",
    "            \n",
    "        if i > 0:\n",
    "            matriz[i-1, i] = -2  # Diagonal acima da principal\n",
    "        \n",
    "        if i + q < n:\n",
    "            matriz[i + q, i] = -1  # Diagonal flutuante abaixo da principal\n",
    "            \n",
    "        if i - q >= 0:\n",
    "            matriz[i - q, i] = -2  # Diagonal flutuante acima da principal\n",
    "    \n",
    "    return matriz\n",
    "\n",
    "def gerar_vetor_independente(matriz):\n",
    "    return np.sum(matriz, axis=1)\n",
    "\n",
    "# Gerar matriz penta diagonal\n",
    "matriz_pentadiagonal = gerar_matriz_penta_diagonal(dim_matriz, 5-1)\n",
    "print(\"Matriz Penta Diagonal:\")\n",
    "print(matriz_pentadiagonal)\n",
    "\n",
    "# Gerar vetor independente\n",
    "vetor_independente_pentadiagonal = gerar_vetor_independente(matriz_pentadiagonal)\n",
    "vetor_independente_pentadiagonal = vetor_independente_pentadiagonal.astype(int)\n",
    "print(\"\\nVetor Independente:\")\n",
    "print(vetor_independente_pentadiagonal)\n"
   ]
  },
  {
   "cell_type": "code",
   "execution_count": 41,
   "id": "1aef8a7d",
   "metadata": {},
   "outputs": [
    {
     "name": "stdout",
     "output_type": "stream",
     "text": [
      "\n",
      "Matriz de Diagonais:\n",
      "[[ 0  0  8 -2 -2]\n",
      " [ 0 -1  8 -2 -2]\n",
      " [-1 -1  8 -2 -2]\n",
      " [-1 -1  8 -2 -2]\n",
      " [-1 -1  8 -2 -2]\n",
      " [-1 -1  8 -2  0]\n",
      " [-1 -1  8  0  0]]\n"
     ]
    }
   ],
   "source": [
    "def extrair_diagonais(matriz):\n",
    "    n = len(matriz)\n",
    "    diagonais = np.zeros((n, 5))\n",
    "\n",
    "    for i in range(n):\n",
    "        # Diagonal principal\n",
    "        diagonais[i, 2] = matriz[i, i]\n",
    "\n",
    "        # Diagonal acima da principal\n",
    "        if i > 0:\n",
    "            diagonais[i, 1] = matriz[i, i-1]\n",
    "\n",
    "        # Diagonal abaixo da principal\n",
    "        if i < n-1:\n",
    "            diagonais[i, 3] = matriz[i, i+1]\n",
    "\n",
    "        # Diagonal acima da diagonal principal\n",
    "        if i > 1:\n",
    "            diagonais[i, 0] = matriz[i, i-1]\n",
    "\n",
    "        # Diagonal abaixo da diagonal principal\n",
    "        if i < n-2:\n",
    "            diagonais[i, 4] = matriz[i, i+1]\n",
    "\n",
    "    return diagonais\n",
    "\n",
    "\n",
    "matriz_diagonais = extrair_diagonais(matriz_pentadiagonal)\n",
    "matriz_diagonais = matriz_diagonais.astype(int)\n",
    "\n",
    "print(\"\\nMatriz de Diagonais:\")\n",
    "print(matriz_diagonais)\n"
   ]
  },
  {
   "cell_type": "code",
   "execution_count": 69,
   "id": "b2a6bf93",
   "metadata": {},
   "outputs": [
    {
     "data": {
      "text/plain": [
       "numpy.ndarray"
      ]
     },
     "execution_count": 69,
     "metadata": {},
     "output_type": "execute_result"
    }
   ],
   "source": [
    "type(matriz_diagonais)"
   ]
  },
  {
   "cell_type": "markdown",
   "id": "a0d148d3",
   "metadata": {},
   "source": [
    "### Método SOR para matrizes penta diagonais"
   ]
  },
  {
   "cell_type": "code",
   "execution_count": 102,
   "id": "70753dd1",
   "metadata": {},
   "outputs": [
    {
     "data": {
      "text/plain": [
       "array([0.99982386, 0.99986639, 0.99991148, 0.99993215, 0.99993497,\n",
       "       0.99996122, 0.99998409])"
      ]
     },
     "execution_count": 102,
     "metadata": {},
     "output_type": "execute_result"
    }
   ],
   "source": [
    "X = resolver_sistema_sor(matriz_pentadiagonal, vetor_independente_pentadiagonal, 1, 10, 0.001)\n",
    "X"
   ]
  },
  {
   "cell_type": "code",
   "execution_count": null,
   "id": "6d6cd2dd",
   "metadata": {},
   "outputs": [],
   "source": []
  }
 ],
 "metadata": {
  "kernelspec": {
   "display_name": "Python 3 (ipykernel)",
   "language": "python",
   "name": "python3"
  },
  "language_info": {
   "codemirror_mode": {
    "name": "ipython",
    "version": 3
   },
   "file_extension": ".py",
   "mimetype": "text/x-python",
   "name": "python",
   "nbconvert_exporter": "python",
   "pygments_lexer": "ipython3",
   "version": "3.9.12"
  }
 },
 "nbformat": 4,
 "nbformat_minor": 5
}
